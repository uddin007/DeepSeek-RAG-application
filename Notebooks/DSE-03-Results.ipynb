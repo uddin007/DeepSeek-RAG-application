{
 "cells": [
  {
   "cell_type": "code",
   "execution_count": 0,
   "metadata": {
    "application/vnd.databricks.v1+cell": {
     "cellMetadata": {
      "byteLimit": 2048000,
      "rowLimit": 10000
     },
     "inputWidgets": {},
     "nuid": "ed6b6c75-6bf0-4cba-8ccc-3dc69d5b41b5",
     "showTitle": false,
     "tableResultSettingsMap": {},
     "title": ""
    }
   },
   "outputs": [],
   "source": [
    "import pandas as pd\n",
    "\n",
    "pdf = spark.sql('''\n",
    "                SELECT DISTINCT * \n",
    "                FROM accenture.rag_chatbot.genai_model_metrics_deepseek \n",
    "                WHERE preds <> 'I cannot answer questions that are not about Databricks.'\n",
    "                ''').toPandas()\n",
    "pdf['gen-ai-model'] = pdf['gen-ai-model'].replace({\n",
    "    'deepseek_r1_distilled_llama8b_v1-chain': 'deepseek_r1_distilled_llama8b',\n",
    "    'anthropic-claude-sonnet-3-5-chain': 'anthropic-claude-sonnet-3-5',\n",
    "    'openAI-chat-o1-chain': 'openai-gpt-4'\n",
    "})\n",
    "\n",
    "display(pdf.head(5))"
   ]
  },
  {
   "cell_type": "code",
   "execution_count": 0,
   "metadata": {
    "application/vnd.databricks.v1+cell": {
     "cellMetadata": {
      "byteLimit": 2048000,
      "rowLimit": 10000
     },
     "inputWidgets": {},
     "nuid": "12cf6f0e-e179-468d-8820-92d7a379bebd",
     "showTitle": false,
     "tableResultSettingsMap": {},
     "title": ""
    }
   },
   "outputs": [],
   "source": [
    "# Group by 'gen-ai-model' and calculate the required aggregations\n",
    "result = pdf.groupby('gen-ai-model').agg({\n",
    "    'answer_correctness_score': lambda x: round(x.mean(), 4),\n",
    "    'professionalism_score': lambda x: round(x.mean(), 4),\n",
    "    'toxicity_score': lambda x: round(x.mean(), 4),\n",
    "    'ari_grade_level_score': lambda x: round(x.mean(), 4),\n",
    "    'flesch_kincaid_grade_level_score': lambda x: round(x.mean(), 4),\n",
    "    'token_count': 'sum'\n",
    "}).reset_index()\n",
    "\n",
    "# Rename columns to match the SQL query\n",
    "result.columns = [\n",
    "    'gen-ai-model', 'answer_correctness', 'professionalism', 'toxicity', \n",
    "    'ari_grade_level', 'flesch_kincaid_grade_level', 'total_token_count'\n",
    "]\n",
    "\n",
    "# Sort by 'answer_correctness' in descending order\n",
    "result = result.sort_values(by='answer_correctness', ascending=False)\n",
    "\n",
    "display(result)"
   ]
  },
  {
   "cell_type": "code",
   "execution_count": 0,
   "metadata": {
    "application/vnd.databricks.v1+cell": {
     "cellMetadata": {
      "byteLimit": 2048000,
      "rowLimit": 10000
     },
     "inputWidgets": {},
     "nuid": "367f19f4-ab46-46d4-aeef-552dfe3eba24",
     "showTitle": false,
     "tableResultSettingsMap": {},
     "title": ""
    }
   },
   "outputs": [],
   "source": [
    "import plotly.express as px\n",
    "px.histogram(pdf, x=\"token_count\", color=\"gen-ai-model\", labels={\"token_count\": \"Token Count\"})"
   ]
  },
  {
   "cell_type": "code",
   "execution_count": 0,
   "metadata": {
    "application/vnd.databricks.v1+cell": {
     "cellMetadata": {
      "byteLimit": 2048000,
      "rowLimit": 10000
     },
     "inputWidgets": {},
     "nuid": "7eadae19-c049-4b31-a519-a4aa0eea31f5",
     "showTitle": false,
     "tableResultSettingsMap": {},
     "title": ""
    }
   },
   "outputs": [],
   "source": [
    "import plotly.express as px\n",
    "\n",
    "# Assuming 'pdf' contains the 'gen-ai-model' column\n",
    "# Counting the occurrences of each answer correctness score\n",
    "df = pdf.groupby(['answer_correctness_score', 'gen-ai-model']).size().reset_index(name='count')\n",
    "\n",
    "fig = px.bar(\n",
    "    df,\n",
    "    x='answer_correctness_score',\n",
    "    y='count',\n",
    "    color='gen-ai-model'\n",
    ")\n",
    "display(fig)"
   ]
  },
  {
   "cell_type": "code",
   "execution_count": 0,
   "metadata": {
    "application/vnd.databricks.v1+cell": {
     "cellMetadata": {
      "byteLimit": 2048000,
      "rowLimit": 10000
     },
     "inputWidgets": {},
     "nuid": "b1777244-0a3f-46cf-bee7-2e69491ef52c",
     "showTitle": false,
     "tableResultSettingsMap": {},
     "title": ""
    }
   },
   "outputs": [],
   "source": [
    "pdf['toxicity'] = pdf['toxicity_score'] * 100\n",
    "fig = px.scatter(\n",
    "    pdf,\n",
    "    x='toxicity',\n",
    "    y='answer_correctness_score',\n",
    "    size=[10]*len(pdf),\n",
    "    color='gen-ai-model',\n",
    "    hover_data=['gen-ai-model']\n",
    ")\n",
    "fig.update_xaxes(range=[0, 20], tickformat=\".2f\")\n",
    "display(fig)"
   ]
  },
  {
   "cell_type": "code",
   "execution_count": 0,
   "metadata": {
    "application/vnd.databricks.v1+cell": {
     "cellMetadata": {
      "byteLimit": 2048000,
      "implicitDf": true,
      "rowLimit": 10000
     },
     "inputWidgets": {},
     "nuid": "bc4ee186-ebd7-44da-8ce9-e6b570be95d6",
     "showTitle": false,
     "tableResultSettingsMap": {},
     "title": ""
    }
   },
   "outputs": [],
   "source": [
    "%sql \n",
    "SELECT DISTINCT * FROM accenture.rag_chatbot.genai_model_metrics_deepseek\n",
    "WHERE preds <> 'I cannot answer questions that are not about Databricks.'\n",
    "AND inputs = 'How can I enforce mandatory tagging of Department and Project with specified values when creating compute resources in Databricks using IAM roles?'"
   ]
  },
  {
   "cell_type": "code",
   "execution_count": 0,
   "metadata": {
    "application/vnd.databricks.v1+cell": {
     "cellMetadata": {
      "byteLimit": 2048000,
      "implicitDf": true,
      "rowLimit": 10000
     },
     "inputWidgets": {},
     "nuid": "42feab0b-baea-4761-aed0-cbf899200f90",
     "showTitle": false,
     "tableResultSettingsMap": {},
     "title": ""
    }
   },
   "outputs": [],
   "source": [
    "%sql \n",
    "SELECT DISTINCT preds, toxicity_score FROM accenture.rag_chatbot.genai_model_metrics_deepseek\n",
    "WHERE preds <> 'I cannot answer questions that are not about Databricks.'\n",
    "AND inputs = 'How can I enforce mandatory tagging of Department and Project with specified values when creating compute resources in Databricks using IAM roles?'\n",
    "ORDER BY toxicity_score DESC\n",
    "LIMIT 1"
   ]
  },
  {
   "cell_type": "code",
   "execution_count": 0,
   "metadata": {
    "application/vnd.databricks.v1+cell": {
     "cellMetadata": {
      "byteLimit": 2048000,
      "rowLimit": 10000
     },
     "inputWidgets": {},
     "nuid": "14888de3-5900-49cf-a9d3-a0afdc0afb97",
     "showTitle": false,
     "tableResultSettingsMap": {},
     "title": ""
    }
   },
   "outputs": [],
   "source": [
    "import plotly.express as px\n",
    "\n",
    "df = pdf.groupby(['professionalism_score', 'gen-ai-model']).size().reset_index(name='count')\n",
    "\n",
    "fig = px.bar(\n",
    "    df,\n",
    "    x='professionalism_score',\n",
    "    y='count',\n",
    "    color='gen-ai-model'\n",
    ")\n",
    "display(fig)"
   ]
  }
 ],
 "metadata": {
  "application/vnd.databricks.v1+notebook": {
   "computePreferences": null,
   "dashboards": [],
   "environmentMetadata": {
    "base_environment": "",
    "environment_version": "2"
   },
   "language": "python",
   "notebookMetadata": {
    "mostRecentlyExecutedCommandWithImplicitDF": {
     "commandId": 5602868795566667,
     "dataframes": [
      "_sqldf"
     ]
    },
    "pythonIndentUnit": 4
   },
   "notebookName": "DSE-03-Results",
   "widgets": {}
  },
  "language_info": {
   "name": "python"
  }
 },
 "nbformat": 4,
 "nbformat_minor": 0
}
