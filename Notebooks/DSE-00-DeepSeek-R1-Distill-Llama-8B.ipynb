{
 "cells": [
  {
   "cell_type": "code",
   "execution_count": 0,
   "metadata": {
    "application/vnd.databricks.v1+cell": {
     "cellMetadata": {
      "byteLimit": 2048000,
      "rowLimit": 10000
     },
     "inputWidgets": {},
     "nuid": "b457589f-bffc-4f6a-aeba-074f0557e1d8",
     "showTitle": true,
     "tableResultSettingsMap": {},
     "title": "Install packages"
    }
   },
   "outputs": [],
   "source": [
    "!pip install transformers==4.44.2 mlflow accelerate \n",
    "!pip install -U bitsandbytes\n",
    "dbutils.library.restartPython()"
   ]
  },
  {
   "cell_type": "code",
   "execution_count": 0,
   "metadata": {
    "application/vnd.databricks.v1+cell": {
     "cellMetadata": {
      "byteLimit": 2048000,
      "rowLimit": 10000
     },
     "inputWidgets": {},
     "nuid": "081b94bf-38b7-4fc8-97fa-3f8e3f799b55",
     "showTitle": false,
     "tableResultSettingsMap": {},
     "title": ""
    }
   },
   "outputs": [],
   "source": [
    "model_id = \"deepseek-ai/DeepSeek-R1-Distill-Llama-8B\""
   ]
  },
  {
   "cell_type": "code",
   "execution_count": 0,
   "metadata": {
    "application/vnd.databricks.v1+cell": {
     "cellMetadata": {
      "byteLimit": 2048000,
      "rowLimit": 10000
     },
     "inputWidgets": {},
     "nuid": "0d71d735-c5a6-4198-947d-6ffd2b809e85",
     "showTitle": true,
     "tableResultSettingsMap": {},
     "title": "Installation path"
    }
   },
   "outputs": [],
   "source": [
    "import os\n",
    "\n",
    "LOCAL_DISK_HF = \"/local_disk0/hf_cache\"\n",
    "os.makedirs(LOCAL_DISK_HF, exist_ok=True)\n",
    "os.environ[\"HF_HOME\"] = LOCAL_DISK_HF\n",
    "os.environ[\"HF_DATASETS_CACHE\"] = LOCAL_DISK_HF\n",
    "os.environ[\"TRANSFORMERS_CACHE\"] = LOCAL_DISK_HF"
   ]
  },
  {
   "cell_type": "code",
   "execution_count": 0,
   "metadata": {
    "application/vnd.databricks.v1+cell": {
     "cellMetadata": {
      "byteLimit": 2048000,
      "rowLimit": 10000
     },
     "inputWidgets": {},
     "nuid": "6af9ff01-b4c5-4b2e-92bd-89d1044cd287",
     "showTitle": true,
     "tableResultSettingsMap": {},
     "title": "Model download"
    }
   },
   "outputs": [],
   "source": [
    "from huggingface_hub import snapshot_download\n",
    "snapshot_download(model_id)"
   ]
  },
  {
   "cell_type": "code",
   "execution_count": 0,
   "metadata": {
    "application/vnd.databricks.v1+cell": {
     "cellMetadata": {
      "byteLimit": 2048000,
      "rowLimit": 10000
     },
     "inputWidgets": {},
     "nuid": "9539ed7b-0351-444e-80f3-3d492c2d32b8",
     "showTitle": true,
     "tableResultSettingsMap": {},
     "title": "Load the model to Unity Catalog"
    }
   },
   "outputs": [],
   "source": [
    "import mlflow\n",
    "import transformers\n",
    "\n",
    "model_id = \"deepseek-ai/DeepSeek-R1-Distill-Llama-8B\"\n",
    "uc_model_name = \"deepseek_r1_distilled_llama8b_v1\"\n",
    "\n",
    "task = \"llm/v1/chat\"\n",
    "model = transformers.AutoModelForCausalLM.from_pretrained(model_id)\n",
    "tokenizer = transformers.AutoTokenizer.from_pretrained(model_id)\n",
    "\n",
    "transformers_model = {\"model\": model, \"tokenizer\": tokenizer}\n",
    "\n",
    "with mlflow.start_run():\n",
    "    model_info = mlflow.transformers.log_model(\n",
    "        transformers_model=transformers_model,\n",
    "        artifact_path=\"model\",\n",
    "        task=task,\n",
    "        registered_model_name=f\"accenture.rag_chatbot_salah_a_uddin.{uc_model_name}\",\n",
    "        metadata={\n",
    "            \"task\": task,\n",
    "            \"pretrained_model_name\": \"meta-llama/Llama-3.3-8B-Instruct\",\n",
    "            \"databricks_model_family\": \"LlamaForCausalLM\",\n",
    "            \"databricks_model_size_parameters\": \"8b\",\n",
    "        },\n",
    "    )"
   ]
  },
  {
   "cell_type": "code",
   "execution_count": 0,
   "metadata": {
    "application/vnd.databricks.v1+cell": {
     "cellMetadata": {
      "byteLimit": 2048000,
      "rowLimit": 10000
     },
     "inputWidgets": {},
     "nuid": "c71b8716-07c6-493b-8fc0-b22ec710a7a1",
     "showTitle": false,
     "tableResultSettingsMap": {},
     "title": ""
    }
   },
   "outputs": [],
   "source": [
    "print(model_info.registered_model_version)"
   ]
  },
  {
   "cell_type": "code",
   "execution_count": 0,
   "metadata": {
    "application/vnd.databricks.v1+cell": {
     "cellMetadata": {
      "byteLimit": 2048000,
      "rowLimit": 10000
     },
     "inputWidgets": {},
     "nuid": "4fb6604a-196f-4a58-80e1-6eb5e1c05724",
     "showTitle": true,
     "tableResultSettingsMap": {},
     "title": "Create model endpoint"
    }
   },
   "outputs": [],
   "source": [
    "from mlflow.deployments import get_deploy_client\n",
    "\n",
    "client = get_deploy_client(\"databricks\")\n",
    "\n",
    "endpoint = client.create_endpoint(\n",
    "    name=uc_model_name,\n",
    "    config={\n",
    "        \"served_entities\": [{\n",
    "            \"entity_name\": f\"accenture.rag_chatbot_salah_a_uddin.{uc_model_name}\",\n",
    "            \"entity_version\": model_info.registered_model_version,  \n",
    "            \"min_provisioned_throughput\": 0,\n",
    "            \"max_provisioned_throughput\": 9500,\n",
    "            \"scale_to_zero_enabled\": True\n",
    "        }],\n",
    "        \"traffic_config\": {\n",
    "            \"routes\": [{\n",
    "                \"served_model_name\": f\"{uc_model_name}-{model_info.registered_model_version}\",\n",
    "                \"traffic_percentage\": 100\n",
    "            }]\n",
    "        }\n",
    "    }\n",
    ")"
   ]
  }
 ],
 "metadata": {
  "application/vnd.databricks.v1+notebook": {
   "computePreferences": {
    "hardware": {
     "accelerator": null,
     "gpuPoolId": null,
     "memory": null
    }
   },
   "dashboards": [],
   "environmentMetadata": {
    "base_environment": "",
    "environment_version": "2"
   },
   "language": "python",
   "notebookMetadata": {
    "pythonIndentUnit": 2
   },
   "notebookName": "DSE-00-DeepSeek-R1-Distill-Llama-8B",
   "widgets": {}
  },
  "language_info": {
   "name": "python"
  }
 },
 "nbformat": 4,
 "nbformat_minor": 0
}
